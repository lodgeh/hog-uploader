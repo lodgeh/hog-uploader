{
 "cells": [
  {
   "attachments": {},
   "cell_type": "markdown",
   "metadata": {},
   "source": [
    "test youtube api stuff"
   ]
  },
  {
   "cell_type": "code",
   "execution_count": 1,
   "metadata": {},
   "outputs": [],
   "source": [
    "import argparse\n",
    "import os\n",
    "import re\n",
    "\n",
    "import google.oauth2.credentials\n",
    "import google_auth_oauthlib.flow\n",
    "from googleapiclient.discovery import build\n",
    "from googleapiclient.errors import HttpError\n",
    "from google_auth_oauthlib.flow import InstalledAppFlow\n"
   ]
  },
  {
   "cell_type": "code",
   "execution_count": 35,
   "metadata": {},
   "outputs": [],
   "source": [
    "def get_authenticated_service():\n",
    "  flow = InstalledAppFlow.from_client_secrets_file(\"youtube_secrets.json\", [\"https://www.googleapis.com/auth/youtube.upload\", \"https://www.googleapis.com/auth/youtube\"])\n",
    "  credentials = flow.run_console()\n",
    "  return build(\"youtube\", \"v3\", credentials = credentials)"
   ]
  },
  {
   "cell_type": "code",
   "execution_count": 36,
   "metadata": {},
   "outputs": [
    {
     "name": "stdout",
     "output_type": "stream",
     "text": [
      "Please visit this URL to authorize this application: https://accounts.google.com/o/oauth2/auth?response_type=code&client_id=135093931493-s5i5phtkooh7rhapha96bit460us52jd.apps.googleusercontent.com&redirect_uri=urn%3Aietf%3Awg%3Aoauth%3A2.0%3Aoob&scope=https%3A%2F%2Fwww.googleapis.com%2Fauth%2Fyoutube.upload+https%3A%2F%2Fwww.googleapis.com%2Fauth%2Fyoutube&state=rn08urpu6KhKSZQUcYHLWujLhWkmhN&prompt=consent&access_type=offline\n"
     ]
    }
   ],
   "source": [
    "youtube = get_authenticated_service()"
   ]
  },
  {
   "cell_type": "code",
   "execution_count": 31,
   "metadata": {},
   "outputs": [],
   "source": [
    "from googleapiclient.http import MediaFileUpload\n",
    "\n",
    "\n",
    "def create_video_upload_request(youtube: build, title: str, file_path: str) -> build:\n",
    "    body=dict(\n",
    "    snippet=dict(\n",
    "      title=title\n",
    "    ),\n",
    "    status=dict(\n",
    "      privacyStatus=\"unlisted\"\n",
    "    )\n",
    "  )\n",
    "    return (youtube.videos().insert(\n",
    "        part=\",\".join(body.keys()),\n",
    "        body=body,\n",
    "        media_body=MediaFileUpload(file_path, chunksize=-1, resumable=True),\n",
    "    )\n",
    "    )\n",
    "\n",
    "def start_video_upload(video_upload_request: build) -> str:\n",
    "    response = video_upload_request.next_chunk()\n",
    "    return response[1][\"id\"]"
   ]
  },
  {
   "cell_type": "code",
   "execution_count": 20,
   "metadata": {},
   "outputs": [],
   "source": [
    "uploader = create_video_upload_request(youtube, \"test_video\", \"output/2022-12-26.mp4\")\n"
   ]
  },
  {
   "cell_type": "code",
   "execution_count": 21,
   "metadata": {},
   "outputs": [],
   "source": [
    "response = start_video_upload(uploader)"
   ]
  },
  {
   "cell_type": "code",
   "execution_count": 32,
   "metadata": {},
   "outputs": [],
   "source": [
    "video_id = response[1][\"id\"]"
   ]
  },
  {
   "cell_type": "code",
   "execution_count": 41,
   "metadata": {},
   "outputs": [],
   "source": [
    "def add_video_to_playlist(youtube,playlist_id, video_id):\n",
    "    body=dict(\n",
    "        snippet=dict(\n",
    "            playlistId=playlist_id,\n",
    "            resourceId=dict(\n",
    "                kind=\"youtube#video\",\n",
    "                videoId=video_id\n",
    "            )\n",
    "        )\n",
    "    )\n",
    "    add_video_request=youtube.playlistItems().insert(\n",
    "    part=\"snippet\",\n",
    "    body=body\n",
    "    ).execute()\n"
   ]
  },
  {
   "cell_type": "code",
   "execution_count": 42,
   "metadata": {},
   "outputs": [],
   "source": [
    "add_video_to_playlist(youtube,\"PLtZv6jHN_L88JZmqB7yhdxAtm3MEn3CQH\",video_id)"
   ]
  },
  {
   "cell_type": "code",
   "execution_count": null,
   "metadata": {},
   "outputs": [],
   "source": []
  }
 ],
 "metadata": {
  "kernelspec": {
   "display_name": ".venv",
   "language": "python",
   "name": "python3"
  },
  "language_info": {
   "codemirror_mode": {
    "name": "ipython",
    "version": 3
   },
   "file_extension": ".py",
   "mimetype": "text/x-python",
   "name": "python",
   "nbconvert_exporter": "python",
   "pygments_lexer": "ipython3",
   "version": "3.10.5"
  },
  "orig_nbformat": 4,
  "vscode": {
   "interpreter": {
    "hash": "3f7f300abb77859102d0110c77234e8b15f26104873daa0f358712b6d9aea501"
   }
  }
 },
 "nbformat": 4,
 "nbformat_minor": 2
}
