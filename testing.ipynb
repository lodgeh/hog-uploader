{
 "cells": [
  {
   "cell_type": "code",
   "execution_count": null,
   "metadata": {},
   "outputs": [],
   "source": [
    "import os\n",
    "from datetime import datetime, timedelta\n",
    "import moviepy\n",
    "from moviepy.editor import VideoFileClip, concatenate_videoclips"
   ]
  },
  {
   "cell_type": "code",
   "execution_count": null,
   "metadata": {},
   "outputs": [],
   "source": [
    "directory = os.listdir(\"input\")"
   ]
  },
  {
   "cell_type": "code",
   "execution_count": null,
   "metadata": {},
   "outputs": [],
   "source": [
    "def get_file_metadata() -> dict:\n",
    "    file_dict = {}\n",
    "    for file in directory:\n",
    "        file_creation_unix_time: float = os.path.getmtime(f\"input/{file}\")\n",
    "        file_creation_datetime: datetime  = datetime.fromtimestamp(file_creation_unix_time)\n",
    "        file_dict[file] = file_creation_datetime\n",
    "    return file_dict"
   ]
  },
  {
   "cell_type": "code",
   "execution_count": null,
   "metadata": {},
   "outputs": [],
   "source": [
    "def get_unique_dates(file_dict: dict) -> list:\n",
    "    dates = [file_dict[file].date() for file in file_dict]\n",
    "    unique_dates = set(dates)\n",
    "    return [datetime(date.year, date.month, date.day, 0, 0) for date in unique_dates]"
   ]
  },
  {
   "cell_type": "code",
   "execution_count": null,
   "metadata": {},
   "outputs": [],
   "source": [
    "\"\"\"\n",
    "output = {\n",
    "    2023-01-01 : [file1, file2, file3]\n",
    "}\n",
    "\n",
    "\"\"\""
   ]
  },
  {
   "cell_type": "code",
   "execution_count": null,
   "metadata": {},
   "outputs": [],
   "source": [
    "def groups_files_into_days(file_dict: dict, unique_dates: list) -> list:\n",
    "    daily_file_groupings_list = []\n",
    "    for date in unique_dates:\n",
    "        start_datetime = date + timedelta(hours=12)\n",
    "        end_datetime = date + timedelta(hours=36)\n",
    "\n",
    "        file_list = []\n",
    "        for file in file_dict:\n",
    "            file_date = file_dict[file]\n",
    "            if start_datetime <= file_date < end_datetime:\n",
    "                file_list.append(file)\n",
    "                \n",
    "        daily_file_group = {}\n",
    "        daily_file_group[str(date.date())] = file_list\n",
    "        daily_file_groupings_list.append(daily_file_group)\n",
    "    return daily_file_groupings_list"
   ]
  },
  {
   "cell_type": "code",
   "execution_count": null,
   "metadata": {},
   "outputs": [],
   "source": [
    "file_dict = get_file_metadata()\n",
    "unique_dates = get_unique_dates(file_dict)\n",
    "groups = groups_files_into_days(file_dict, unique_dates)"
   ]
  },
  {
   "cell_type": "code",
   "execution_count": 47,
   "metadata": {},
   "outputs": [
    {
     "data": {
      "text/plain": [
       "[{'2022-12-30': ['DSCF0069.MP4',\n",
       "   'DSCF0070.MP4',\n",
       "   'DSCF0071.MP4',\n",
       "   'DSCF0072.MP4',\n",
       "   'DSCF0073.MP4',\n",
       "   'DSCF0074.MP4',\n",
       "   'DSCF0075.MP4',\n",
       "   'DSCF0076.MP4',\n",
       "   'DSCF0077.MP4',\n",
       "   'DSCF0078.MP4',\n",
       "   'DSCF0079.MP4',\n",
       "   'DSCF0080.MP4',\n",
       "   'DSCF0081.MP4',\n",
       "   'DSCF0082.MP4']},\n",
       " {'2022-12-28': ['DSCF0017.MP4',\n",
       "   'DSCF0018.MP4',\n",
       "   'DSCF0019.MP4',\n",
       "   'DSCF0020.MP4',\n",
       "   'DSCF0021.MP4',\n",
       "   'DSCF0022.MP4',\n",
       "   'DSCF0023.MP4',\n",
       "   'DSCF0024.MP4',\n",
       "   'DSCF0025.MP4',\n",
       "   'DSCF0026.MP4',\n",
       "   'DSCF0027.MP4',\n",
       "   'DSCF0028.MP4',\n",
       "   'DSCF0029.MP4',\n",
       "   'DSCF0030.MP4',\n",
       "   'DSCF0031.MP4',\n",
       "   'DSCF0032.MP4',\n",
       "   'DSCF0033.MP4']},\n",
       " {'2023-01-01': ['DSCF0003.MP4', 'DSCF0004.MP4']},\n",
       " {'2022-12-26': ['DSCF0005.MP4',\n",
       "   'DSCF0006.MP4',\n",
       "   'DSCF0007.MP4',\n",
       "   'DSCF0008.MP4',\n",
       "   'DSCF0009.MP4',\n",
       "   'DSCF0010.MP4',\n",
       "   'DSCF0011.MP4',\n",
       "   'DSCF0012.MP4',\n",
       "   'DSCF0013.MP4']},\n",
       " {'2023-01-04': ['DSCF0034.MP4', 'DSCF0035.MP4']},\n",
       " {'2022-12-27': []},\n",
       " {'2023-01-02': ['DSCF0014.MP4', 'DSCF0015.MP4', 'DSCF0016.MP4']},\n",
       " {'2022-12-29': ['DSCF0036.MP4',\n",
       "   'DSCF0037.MP4',\n",
       "   'DSCF0038.MP4',\n",
       "   'DSCF0039.MP4',\n",
       "   'DSCF0040.MP4',\n",
       "   'DSCF0041.MP4',\n",
       "   'DSCF0042.MP4',\n",
       "   'DSCF0043.MP4',\n",
       "   'DSCF0044.MP4',\n",
       "   'DSCF0045.MP4',\n",
       "   'DSCF0046.MP4',\n",
       "   'DSCF0047.MP4',\n",
       "   'DSCF0048.MP4',\n",
       "   'DSCF0049.MP4',\n",
       "   'DSCF0050.MP4',\n",
       "   'DSCF0051.MP4',\n",
       "   'DSCF0052.MP4',\n",
       "   'DSCF0053.MP4',\n",
       "   'DSCF0054.MP4',\n",
       "   'DSCF0055.MP4',\n",
       "   'DSCF0056.MP4',\n",
       "   'DSCF0057.MP4',\n",
       "   'DSCF0058.MP4',\n",
       "   'DSCF0059.MP4',\n",
       "   'DSCF0060.MP4',\n",
       "   'DSCF0061.MP4',\n",
       "   'DSCF0062.MP4',\n",
       "   'DSCF0063.MP4',\n",
       "   'DSCF0064.MP4',\n",
       "   'DSCF0065.MP4']},\n",
       " {'2022-12-31': ['DSCF0084.MP4',\n",
       "   'DSCF0085.MP4',\n",
       "   'DSCF0086.MP4',\n",
       "   'DSCF0087.MP4',\n",
       "   'DSCF0088.MP4',\n",
       "   'DSCF0089.MP4',\n",
       "   'DSCF0090.MP4',\n",
       "   'DSCF0091.MP4',\n",
       "   'DSCF0092.MP4',\n",
       "   'DSCF0093.MP4',\n",
       "   'DSCF0094.MP4',\n",
       "   'DSCF0095.MP4',\n",
       "   'DSCF0096.MP4',\n",
       "   'DSCF0097.MP4',\n",
       "   'DSCF0098.MP4',\n",
       "   'DSCF0099.MP4',\n",
       "   'DSCF0100.MP4',\n",
       "   'DSCF0101.MP4',\n",
       "   'DSCF0102.MP4',\n",
       "   'DSCF0103.MP4',\n",
       "   'DSCF0104.MP4',\n",
       "   'DSCF0105.MP4',\n",
       "   'DSCF0106.MP4',\n",
       "   'DSCF0107.MP4',\n",
       "   'DSCF0108.MP4',\n",
       "   'DSCF0109.MP4',\n",
       "   'DSCF0110.MP4']}]"
      ]
     },
     "execution_count": 47,
     "metadata": {},
     "output_type": "execute_result"
    }
   ],
   "source": [
    "groups"
   ]
  },
  {
   "cell_type": "code",
   "execution_count": null,
   "metadata": {},
   "outputs": [],
   "source": [
    "groups[0][\"2022-12-30\"]"
   ]
  },
  {
   "cell_type": "code",
   "execution_count": 48,
   "metadata": {},
   "outputs": [
    {
     "name": "stdout",
     "output_type": "stream",
     "text": [
      "1\n"
     ]
    }
   ],
   "source": [
    "\n",
    "test = []\n",
    "if not test:\n",
    "    print(\"1\")"
   ]
  },
  {
   "cell_type": "code",
   "execution_count": 49,
   "metadata": {},
   "outputs": [
    {
     "name": "stdout",
     "output_type": "stream",
     "text": [
      "Moviepy - Building video output/2022-12-30.mp4.\n",
      "MoviePy - Writing audio in 2022-12-30TEMP_MPY_wvf_snd.mp3\n"
     ]
    },
    {
     "name": "stderr",
     "output_type": "stream",
     "text": [
      "                                                                      \r"
     ]
    },
    {
     "name": "stdout",
     "output_type": "stream",
     "text": [
      "MoviePy - Done.\n",
      "Moviepy - Writing video output/2022-12-30.mp4\n",
      "\n"
     ]
    },
    {
     "name": "stderr",
     "output_type": "stream",
     "text": [
      "                                                                 \r"
     ]
    },
    {
     "name": "stdout",
     "output_type": "stream",
     "text": [
      "Moviepy - Done !\n",
      "Moviepy - video ready output/2022-12-30.mp4\n",
      "Moviepy - Building video output/2022-12-28.mp4.\n",
      "MoviePy - Writing audio in 2022-12-28TEMP_MPY_wvf_snd.mp3\n"
     ]
    },
    {
     "name": "stderr",
     "output_type": "stream",
     "text": [
      "                                                                      \r"
     ]
    },
    {
     "name": "stdout",
     "output_type": "stream",
     "text": [
      "MoviePy - Done.\n",
      "Moviepy - Writing video output/2022-12-28.mp4\n",
      "\n"
     ]
    },
    {
     "name": "stderr",
     "output_type": "stream",
     "text": [
      "                                                                   \r"
     ]
    },
    {
     "name": "stdout",
     "output_type": "stream",
     "text": [
      "Moviepy - Done !\n",
      "Moviepy - video ready output/2022-12-28.mp4\n",
      "Moviepy - Building video output/2023-01-01.mp4.\n",
      "MoviePy - Writing audio in 2023-01-01TEMP_MPY_wvf_snd.mp3\n"
     ]
    },
    {
     "name": "stderr",
     "output_type": "stream",
     "text": [
      "                                                                    \r"
     ]
    },
    {
     "name": "stdout",
     "output_type": "stream",
     "text": [
      "MoviePy - Done.\n",
      "Moviepy - Writing video output/2023-01-01.mp4\n",
      "\n"
     ]
    },
    {
     "name": "stderr",
     "output_type": "stream",
     "text": [
      "                                                                \r"
     ]
    },
    {
     "name": "stdout",
     "output_type": "stream",
     "text": [
      "Moviepy - Done !\n",
      "Moviepy - video ready output/2023-01-01.mp4\n",
      "Moviepy - Building video output/2022-12-26.mp4.\n",
      "MoviePy - Writing audio in 2022-12-26TEMP_MPY_wvf_snd.mp3\n"
     ]
    },
    {
     "name": "stderr",
     "output_type": "stream",
     "text": [
      "                                                                      \r"
     ]
    },
    {
     "name": "stdout",
     "output_type": "stream",
     "text": [
      "MoviePy - Done.\n",
      "Moviepy - Writing video output/2022-12-26.mp4\n",
      "\n"
     ]
    },
    {
     "name": "stderr",
     "output_type": "stream",
     "text": [
      "                                                                 \r"
     ]
    },
    {
     "name": "stdout",
     "output_type": "stream",
     "text": [
      "Moviepy - Done !\n",
      "Moviepy - video ready output/2022-12-26.mp4\n",
      "Moviepy - Building video output/2023-01-04.mp4.\n",
      "MoviePy - Writing audio in 2023-01-04TEMP_MPY_wvf_snd.mp3\n"
     ]
    },
    {
     "name": "stderr",
     "output_type": "stream",
     "text": [
      "                                                                    \r"
     ]
    },
    {
     "name": "stdout",
     "output_type": "stream",
     "text": [
      "MoviePy - Done.\n",
      "Moviepy - Writing video output/2023-01-04.mp4\n",
      "\n"
     ]
    },
    {
     "name": "stderr",
     "output_type": "stream",
     "text": [
      "                                                                 \r"
     ]
    },
    {
     "name": "stdout",
     "output_type": "stream",
     "text": [
      "Moviepy - Done !\n",
      "Moviepy - video ready output/2023-01-04.mp4\n",
      "Moviepy - Building video output/2023-01-02.mp4.\n",
      "MoviePy - Writing audio in 2023-01-02TEMP_MPY_wvf_snd.mp3\n"
     ]
    },
    {
     "name": "stderr",
     "output_type": "stream",
     "text": [
      "                                                                      \r"
     ]
    },
    {
     "name": "stdout",
     "output_type": "stream",
     "text": [
      "MoviePy - Done.\n",
      "Moviepy - Writing video output/2023-01-02.mp4\n",
      "\n"
     ]
    },
    {
     "name": "stderr",
     "output_type": "stream",
     "text": [
      "                                                                 \r"
     ]
    },
    {
     "name": "stdout",
     "output_type": "stream",
     "text": [
      "Moviepy - Done !\n",
      "Moviepy - video ready output/2023-01-02.mp4\n",
      "Moviepy - Building video output/2022-12-29.mp4.\n",
      "MoviePy - Writing audio in 2022-12-29TEMP_MPY_wvf_snd.mp3\n"
     ]
    },
    {
     "name": "stderr",
     "output_type": "stream",
     "text": [
      "                                                                        \r"
     ]
    },
    {
     "name": "stdout",
     "output_type": "stream",
     "text": [
      "MoviePy - Done.\n",
      "Moviepy - Writing video output/2022-12-29.mp4\n",
      "\n"
     ]
    },
    {
     "name": "stderr",
     "output_type": "stream",
     "text": [
      "                                                                   \r"
     ]
    },
    {
     "name": "stdout",
     "output_type": "stream",
     "text": [
      "Moviepy - Done !\n",
      "Moviepy - video ready output/2022-12-29.mp4\n",
      "Moviepy - Building video output/2022-12-31.mp4.\n",
      "MoviePy - Writing audio in 2022-12-31TEMP_MPY_wvf_snd.mp3\n"
     ]
    },
    {
     "name": "stderr",
     "output_type": "stream",
     "text": [
      "                                                                        \r"
     ]
    },
    {
     "name": "stdout",
     "output_type": "stream",
     "text": [
      "MoviePy - Done.\n",
      "Moviepy - Writing video output/2022-12-31.mp4\n",
      "\n"
     ]
    },
    {
     "name": "stderr",
     "output_type": "stream",
     "text": [
      "                                                                   \r"
     ]
    },
    {
     "name": "stdout",
     "output_type": "stream",
     "text": [
      "Moviepy - Done !\n",
      "Moviepy - video ready output/2022-12-31.mp4\n"
     ]
    }
   ],
   "source": [
    "def concatenate_videos_and_save_to_output(groups):\n",
    "    for group in groups:\n",
    "        for date, files in group.items():\n",
    "            if not files:\n",
    "                continue\n",
    "            clips = [VideoFileClip(f\"input/{file}\") for file in files]\n",
    "            final_clip = concatenate_videoclips(clips)\n",
    "            final_clip.write_videofile(f\"output/{date}.mp4\")\n"
   ]
  },
  {
   "cell_type": "code",
   "execution_count": null,
   "metadata": {},
   "outputs": [],
   "source": []
  },
  {
   "cell_type": "code",
   "execution_count": null,
   "metadata": {},
   "outputs": [],
   "source": []
  }
 ],
 "metadata": {
  "kernelspec": {
   "display_name": ".venv",
   "language": "python",
   "name": "python3"
  },
  "language_info": {
   "codemirror_mode": {
    "name": "ipython",
    "version": 3
   },
   "file_extension": ".py",
   "mimetype": "text/x-python",
   "name": "python",
   "nbconvert_exporter": "python",
   "pygments_lexer": "ipython3",
   "version": "3.10.5"
  },
  "orig_nbformat": 4,
  "vscode": {
   "interpreter": {
    "hash": "3f7f300abb77859102d0110c77234e8b15f26104873daa0f358712b6d9aea501"
   }
  }
 },
 "nbformat": 4,
 "nbformat_minor": 2
}
